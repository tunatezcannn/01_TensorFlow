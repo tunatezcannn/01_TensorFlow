{
  "nbformat": 4,
  "nbformat_minor": 0,
  "metadata": {
    "colab": {
      "provenance": [],
      "collapsed_sections": [],
      "toc_visible": true
    },
    "kernelspec": {
      "name": "python3",
      "display_name": "Python 3"
    },
    "language_info": {
      "name": "python"
    }
  },
  "cells": [
    {
      "cell_type": "code",
      "execution_count": null,
      "metadata": {
        "id": "t-Imkin5XAX7"
      },
      "outputs": [],
      "source": [
        "import tensorflow as tf\n",
        "import pandas as pd\n",
        "import numpy as np\n",
        "import matplotlib.pyplot as plt\n",
        "from sklearn.ensemble import RandomForestRegressor\n",
        "from sklearn.metrics import mean_squared_log_error, mean_absolute_error\n",
        "from sklearn.model_selection import RandomizedSearchCV\n",
        "import sys\n",
        "import seaborn as sns"
      ]
    },
    {
      "cell_type": "code",
      "source": [
        "def preprocess_data(df):\n",
        "    # Add datetime parameters for saledate\n",
        "    df[\"saleYear\"] = df.saledate.dt.year\n",
        "    df[\"saleMonth\"] = df.saledate.dt.month\n",
        "    df[\"saleDay\"] = df.saledate.dt.day\n",
        "    df[\"saleDayofweek\"] = df.saledate.dt.dayofweek\n",
        "    df[\"saleDayofyear\"] = df.saledate.dt.dayofyear\n",
        "\n",
        "    # Drop original saledate\n",
        "    df.drop(\"saledate\", axis=1, inplace=True)\n",
        "    \n",
        "    # Fill numeric rows with the median\n",
        "    for label, content in df.items():\n",
        "        if pd.api.types.is_numeric_dtype(content):\n",
        "            if pd.isnull(content).sum():\n",
        "                df[label+\"_is_missing\"] = pd.isnull(content)\n",
        "                df[label] = content.fillna(content.median())\n",
        "                \n",
        "        # Turn categorical variables into numbers\n",
        "        if not pd.api.types.is_numeric_dtype(content):\n",
        "            df[label+\"_is_missing\"] = pd.isnull(content)\n",
        "            # We add the +1 because pandas encodes missing categories as -1\n",
        "            df[label] = pd.Categorical(content).codes+1        \n",
        "    \n",
        "    return df"
      ],
      "metadata": {
        "id": "CtMLnWa6DtDR"
      },
      "execution_count": null,
      "outputs": []
    },
    {
      "cell_type": "code",
      "source": [
        "def plot_features(columns, importances, n=20):\n",
        "    df = (pd.DataFrame({\"features\": columns,\n",
        "                        \"feature_importance\": importances})\n",
        "          .sort_values(\"feature_importance\", ascending=False)\n",
        "          .reset_index(drop=True))\n",
        "    \n",
        "    sns.barplot(x=\"feature_importance\",\n",
        "                y=\"features\",\n",
        "                data=df[:n],\n",
        "                orient=\"h\")"
      ],
      "metadata": {
        "id": "22ByiddQDUoL"
      },
      "execution_count": null,
      "outputs": []
    },
    {
      "cell_type": "code",
      "source": [
        "def rmsle(y_test, y_preds):\n",
        "    return np.sqrt(mean_squared_log_error(y_test, y_preds))"
      ],
      "metadata": {
        "id": "prYukaChDdBh"
      },
      "execution_count": null,
      "outputs": []
    },
    {
      "cell_type": "code",
      "source": [
        "# Create function to evaluate our model\n",
        "def show_scores(model):\n",
        "    train_preds = model.predict(X_train)\n",
        "    val_preds = model.predict(X_valid)\n",
        "    scores = {\"Training MAE\": mean_absolute_error(y_train, train_preds),\n",
        "              \"Valid MAE\": mean_absolute_error(y_valid, val_preds),\n",
        "              \"Training RMSLE\": rmsle(y_train, train_preds),\n",
        "              \"Valid RMSLE\": rmsle(y_valid, val_preds),\n",
        "              \"Training R^2\": model.score(X_train, y_train),\n",
        "              \"Valid R^2\": model.score(X_valid, y_valid)}\n",
        "    return scores"
      ],
      "metadata": {
        "id": "Rn3GQ65mDaYe"
      },
      "execution_count": null,
      "outputs": []
    },
    {
      "cell_type": "code",
      "source": [
        "df = pd.read_csv(\"/content/TrainAndValid.csv\")"
      ],
      "metadata": {
        "colab": {
          "base_uri": "https://localhost:8080/"
        },
        "id": "U2_m4adsZXgw",
        "outputId": "b74ad124-3daf-4b81-db5b-44e4c7904bd0"
      },
      "execution_count": null,
      "outputs": [
        {
          "output_type": "stream",
          "name": "stderr",
          "text": [
            "/usr/local/lib/python3.7/dist-packages/IPython/core/interactiveshell.py:3326: DtypeWarning: Columns (13,39,40,41) have mixed types.Specify dtype option on import or set low_memory=False.\n",
            "  exec(code_obj, self.user_global_ns, self.user_ns)\n"
          ]
        }
      ]
    },
    {
      "cell_type": "code",
      "source": [
        "fig, ax = plt.subplots()\n",
        "ax.scatter(df[\"saledate\"][:1000],df[\"SalePrice\"][:1000])"
      ],
      "metadata": {
        "colab": {
          "base_uri": "https://localhost:8080/",
          "height": 282
        },
        "id": "5NAKRNDQaYXq",
        "outputId": "bc959f9a-f163-467e-de2b-fef08626a57d"
      },
      "execution_count": null,
      "outputs": [
        {
          "output_type": "execute_result",
          "data": {
            "text/plain": [
              "<matplotlib.collections.PathCollection at 0x7f6d08ffd310>"
            ]
          },
          "metadata": {},
          "execution_count": 204
        },
        {
          "output_type": "display_data",
          "data": {
            "text/plain": [
              "<Figure size 432x288 with 1 Axes>"
            ],
            "image/png": "[encoded data removed]"
          },
          "metadata": {
            "needs_background": "light"
          }
        }
      ]
    },
    {
      "cell_type": "code",
      "source": [
        "df = pd.read_csv(\"/content/TrainAndValid.csv\",\n",
        "                 low_memory = False,\n",
        "                 parse_dates = [\"saledate\"])"
      ],
      "metadata": {
        "id": "yzPEJkH_bNs2"
      },
      "execution_count": null,
      "outputs": []
    },
    {
      "cell_type": "code",
      "source": [
        "fig, ax = plt.subplots()\n",
        "ax.scatter(df[\"saledate\"][:1000], df[\"SalePrice\"][:1000])"
      ],
      "metadata": {
        "colab": {
          "base_uri": "https://localhost:8080/",
          "height": 282
        },
        "id": "jECZ87hMbkor",
        "outputId": "a3e40b7f-204b-4860-d5bb-adabdef5f69e"
      },
      "execution_count": null,
      "outputs": [
        {
          "output_type": "execute_result",
          "data": {
            "text/plain": [
              "<matplotlib.collections.PathCollection at 0x7f6d0bd77d50>"
            ]
          },
          "metadata": {},
          "execution_count": 206
        },
        {
          "output_type": "display_data",
          "data": {
            "text/plain": [
              "<Figure size 432x288 with 1 Axes>"
            ],
            "image/png": "[encoded data removed]"
          },
          "metadata": {
            "needs_background": "light"
          }
        }
      ]
    },
    {
      "cell_type": "code",
      "source": [
        "df.sort_values(by=[\"saledate\"],inplace = True,ascending = True)\n",
        "df.saledate.head(20)"
      ],
      "metadata": {
        "colab": {
          "base_uri": "https://localhost:8080/"
        },
        "id": "iumrvnkmbsNG",
        "outputId": "7c0cf5cd-3291-48ea-db8c-b0edb0be65ce"
      },
      "execution_count": null,
      "outputs": [
        {
          "output_type": "execute_result",
          "data": {
            "text/plain": [
              "205615   1989-01-17\n",
              "274835   1989-01-31\n",
              "141296   1989-01-31\n",
              "212552   1989-01-31\n",
              "62755    1989-01-31\n",
              "54653    1989-01-31\n",
              "81383    1989-01-31\n",
              "204924   1989-01-31\n",
              "135376   1989-01-31\n",
              "113390   1989-01-31\n",
              "113394   1989-01-31\n",
              "116419   1989-01-31\n",
              "32138    1989-01-31\n",
              "127610   1989-01-31\n",
              "76171    1989-01-31\n",
              "127000   1989-01-31\n",
              "128130   1989-01-31\n",
              "127626   1989-01-31\n",
              "55455    1989-01-31\n",
              "55454    1989-01-31\n",
              "Name: saledate, dtype: datetime64[ns]"
            ]
          },
          "metadata": {},
          "execution_count": 207
        }
      ]
    },
    {
      "cell_type": "code",
      "source": [
        "df_tmp = df.copy()"
      ],
      "metadata": {
        "id": "KQa18fzNb42Y"
      },
      "execution_count": null,
      "outputs": []
    },
    {
      "cell_type": "code",
      "source": [
        "for label, content in df_tmp.items():\n",
        "  if pd.api.types.is_string_dtype(content):\n",
        "    df_tmp[label] = content.astype(\"category\").cat.as_ordered()"
      ],
      "metadata": {
        "id": "j5R7vk1edbw_"
      },
      "execution_count": null,
      "outputs": []
    },
    {
      "cell_type": "code",
      "source": [
        "preprocess_data(df_tmp)"
      ],
      "metadata": {
        "colab": {
          "base_uri": "https://localhost:8080/",
          "height": 488
        },
        "id": "Yy8OlQALKUfq",
        "outputId": "38cd644c-3a34-4d62-ecfb-5f564851ec1e"
      },
      "execution_count": null,
      "outputs": [
        {
          "output_type": "execute_result",
          "data": {
            "text/plain": [
              "        SalesID  SalePrice  MachineID  ModelID  datasource  auctioneerID  \\\n",
              "205615  1646770     9500.0    1126363     8434         132          18.0   \n",
              "274835  1821514    14000.0    1194089    10150         132          99.0   \n",
              "141296  1505138    50000.0    1473654     4139         132          99.0   \n",
              "212552  1671174    16000.0    1327630     8591         132          99.0   \n",
              "62755   1329056    22000.0    1336053     4089         132          99.0   \n",
              "...         ...        ...        ...      ...         ...           ...   \n",
              "410879  6302984    16000.0    1915521     5266         149          99.0   \n",
              "412476  6324811     6000.0    1919104    19330         149          99.0   \n",
              "411927  6313029    16000.0    1918416    17244         149          99.0   \n",
              "407124  6266251    55000.0     509560     3357         149          99.0   \n",
              "409203  6283635    34000.0    1869284     4701         149          99.0   \n",
              "\n",
              "        YearMade  MachineHoursCurrentMeter  UsageBand  fiModelDesc  ...  \\\n",
              "205615      1974                       0.0          0         4593  ...   \n",
              "274835      1980                       0.0          0         1820  ...   \n",
              "141296      1978                       0.0          0         2348  ...   \n",
              "212552      1980                       0.0          0         1819  ...   \n",
              "62755       1984                       0.0          0         2119  ...   \n",
              "...          ...                       ...        ...          ...  ...   \n",
              "410879      2001                       0.0          0         2101  ...   \n",
              "412476      2004                       0.0          0          240  ...   \n",
              "411927      2004                       0.0          0          627  ...   \n",
              "407124      1993                       0.0          0           83  ...   \n",
              "409203      1000                       0.0          0          989  ...   \n",
              "\n",
              "        Undercarriage_Pad_Width_is_missing  Stick_Length_is_missing  \\\n",
              "205615                                True                     True   \n",
              "274835                                True                     True   \n",
              "141296                                True                     True   \n",
              "212552                                True                     True   \n",
              "62755                                 True                     True   \n",
              "...                                    ...                      ...   \n",
              "410879                                True                     True   \n",
              "412476                                True                     True   \n",
              "411927                                True                     True   \n",
              "407124                                True                     True   \n",
              "409203                                True                     True   \n",
              "\n",
              "        Thumb_is_missing  Pattern_Changer_is_missing  Grouser_Type_is_missing  \\\n",
              "205615              True                        True                     True   \n",
              "274835              True                        True                     True   \n",
              "141296              True                        True                     True   \n",
              "212552              True                        True                     True   \n",
              "62755               True                        True                     True   \n",
              "...                  ...                         ...                      ...   \n",
              "410879              True                        True                     True   \n",
              "412476              True                        True                     True   \n",
              "411927              True                        True                     True   \n",
              "407124              True                        True                     True   \n",
              "409203              True                        True                     True   \n",
              "\n",
              "        Backhoe_Mounting_is_missing  Blade_Type_is_missing  \\\n",
              "205615                        False                  False   \n",
              "274835                         True                   True   \n",
              "141296                        False                  False   \n",
              "212552                         True                   True   \n",
              "62755                         False                  False   \n",
              "...                             ...                    ...   \n",
              "410879                        False                  False   \n",
              "412476                         True                   True   \n",
              "411927                         True                   True   \n",
              "407124                         True                   True   \n",
              "409203                         True                   True   \n",
              "\n",
              "        Travel_Controls_is_missing  Differential_Type_is_missing  \\\n",
              "205615                       False                          True   \n",
              "274835                        True                         False   \n",
              "141296                       False                          True   \n",
              "212552                        True                         False   \n",
              "62755                        False                          True   \n",
              "...                            ...                           ...   \n",
              "410879                       False                          True   \n",
              "412476                        True                          True   \n",
              "411927                        True                          True   \n",
              "407124                        True                          True   \n",
              "409203                        True                         False   \n",
              "\n",
              "        Steering_Controls_is_missing  \n",
              "205615                          True  \n",
              "274835                         False  \n",
              "141296                          True  \n",
              "212552                         False  \n",
              "62755                           True  \n",
              "...                              ...  \n",
              "410879                          True  \n",
              "412476                          True  \n",
              "411927                          True  \n",
              "407124                          True  \n",
              "409203                         False  \n",
              "\n",
              "[412698 rows x 103 columns]"
            ],
            "text/html": [
              "\n",
              "  <div id=\"df-c88cd51d-068b-4444-8151-646b6dc0900a\">\n",
              "    <div class=\"colab-df-container\">\n",
              "      <div>\n",
              "<style scoped>\n",
              "    .dataframe tbody tr th:only-of-type {\n",
              "        vertical-align: middle;\n",
              "    }\n",
              "\n",
              "    .dataframe tbody tr th {\n",
              "        vertical-align: top;\n",
              "    }\n",
              "\n",
              "    .dataframe thead th {\n",
              "        text-align: right;\n",
              "    }\n",
              "</style>\n",
              "<table border=\"1\" class=\"dataframe\">\n",
              "  <thead>\n",
              "    <tr style=\"text-align: right;\">\n",
              "      <th></th>\n",
              "      <th>SalesID</th>\n",
              "      <th>SalePrice</th>\n",
              "      <th>MachineID</th>\n",
              "      <th>ModelID</th>\n",
              "      <th>datasource</th>\n",
              "      <th>auctioneerID</th>\n",
              "      <th>YearMade</th>\n",
              "      <th>MachineHoursCurrentMeter</th>\n",
              "      <th>UsageBand</th>\n",
              "      <th>fiModelDesc</th>\n",
              "      <th>...</th>\n",
              "      <th>Undercarriage_Pad_Width_is_missing</th>\n",
              "      <th>Stick_Length_is_missing</th>\n",
              "      <th>Thumb_is_missing</th>\n",
              "      <th>Pattern_Changer_is_missing</th>\n",
              "      <th>Grouser_Type_is_missing</th>\n",
              "      <th>Backhoe_Mounting_is_missing</th>\n",
              "      <th>Blade_Type_is_missing</th>\n",
              "      <th>Travel_Controls_is_missing</th>\n",
              "      <th>Differential_Type_is_missing</th>\n",
              "      <th>Steering_Controls_is_missing</th>\n",
              "    </tr>\n",
              "  </thead>\n",
              "  <tbody>\n",
              "    <tr>\n",
              "      <th>205615</th>\n",
              "      <td>1646770</td>\n",
              "      <td>9500.0</td>\n",
              "      <td>1126363</td>\n",
              "      <td>8434</td>\n",
              "      <td>132</td>\n",
              "      <td>18.0</td>\n",
              "      <td>1974</td>\n",
              "      <td>0.0</td>\n",
              "      <td>0</td>\n",
              "      <td>4593</td>\n",
              "      <td>...</td>\n",
              "      <td>True</td>\n",
              "      <td>True</td>\n",
              "      <td>True</td>\n",
              "      <td>True</td>\n",
              "      <td>True</td>\n",
              "      <td>False</td>\n",
              "      <td>False</td>\n",
              "      <td>False</td>\n",
              "      <td>True</td>\n",
              "      <td>True</td>\n",
              "    </tr>\n",
              "    <tr>\n",
              "      <th>274835</th>\n",
              "      <td>1821514</td>\n",
              "      <td>14000.0</td>\n",
              "      <td>1194089</td>\n",
              "      <td>10150</td>\n",
              "      <td>132</td>\n",
              "      <td>99.0</td>\n",
              "      <td>1980</td>\n",
              "      <td>0.0</td>\n",
              "      <td>0</td>\n",
              "      <td>1820</td>\n",
              "      <td>...</td>\n",
              "      <td>True</td>\n",
              "      <td>True</td>\n",
              "      <td>True</td>\n",
              "      <td>True</td>\n",
              "      <td>True</td>\n",
              "      <td>True</td>\n",
              "      <td>True</td>\n",
              "      <td>True</td>\n",
              "      <td>False</td>\n",
              "      <td>False</td>\n",
              "    </tr>\n",
              "    <tr>\n",
              "      <th>141296</th>\n",
              "      <td>1505138</td>\n",
              "      <td>50000.0</td>\n",
              "      <td>1473654</td>\n",
              "      <td>4139</td>\n",
              "      <td>132</td>\n",
              "      <td>99.0</td>\n",
              "      <td>1978</td>\n",
              "      <td>0.0</td>\n",
              "      <td>0</td>\n",
              "      <td>2348</td>\n",
              "      <td>...</td>\n",
              "      <td>True</td>\n",
              "      <td>True</td>\n",
              "      <td>True</td>\n",
              "      <td>True</td>\n",
              "      <td>True</td>\n",
              "      <td>False</td>\n",
              "      <td>False</td>\n",
              "      <td>False</td>\n",
              "      <td>True</td>\n",
              "      <td>True</td>\n",
              "    </tr>\n",
              "    <tr>\n",
              "      <th>212552</th>\n",
              "      <td>1671174</td>\n",
              "      <td>16000.0</td>\n",
              "      <td>1327630</td>\n",
              "      <td>8591</td>\n",
              "      <td>132</td>\n",
              "      <td>99.0</td>\n",
              "      <td>1980</td>\n",
              "      <td>0.0</td>\n",
              "      <td>0</td>\n",
              "      <td>1819</td>\n",
              "      <td>...</td>\n",
              "      <td>True</td>\n",
              "      <td>True</td>\n",
              "      <td>True</td>\n",
              "      <td>True</td>\n",
              "      <td>True</td>\n",
              "      <td>True</td>\n",
              "      <td>True</td>\n",
              "      <td>True</td>\n",
              "      <td>False</td>\n",
              "      <td>False</td>\n",
              "    </tr>\n",
              "    <tr>\n",
              "      <th>62755</th>\n",
              "      <td>1329056</td>\n",
              "      <td>22000.0</td>\n",
              "      <td>1336053</td>\n",
              "      <td>4089</td>\n",
              "      <td>132</td>\n",
              "      <td>99.0</td>\n",
              "      <td>1984</td>\n",
              "      <td>0.0</td>\n",
              "      <td>0</td>\n",
              "      <td>2119</td>\n",
              "      <td>...</td>\n",
              "      <td>True</td>\n",
              "      <td>True</td>\n",
              "      <td>True</td>\n",
              "      <td>True</td>\n",
              "      <td>True</td>\n",
              "      <td>False</td>\n",
              "      <td>False</td>\n",
              "      <td>False</td>\n",
              "      <td>True</td>\n",
              "      <td>True</td>\n",
              "    </tr>\n",
              "    <tr>\n",
              "      <th>...</th>\n",
              "      <td>...</td>\n",
              "      <td>...</td>\n",
              "      <td>...</td>\n",
              "      <td>...</td>\n",
              "      <td>...</td>\n",
              "      <td>...</td>\n",
              "      <td>...</td>\n",
              "      <td>...</td>\n",
              "      <td>...</td>\n",
              "      <td>...</td>\n",
              "      <td>...</td>\n",
              "      <td>...</td>\n",
              "      <td>...</td>\n",
              "      <td>...</td>\n",
              "      <td>...</td>\n",
              "      <td>...</td>\n",
              "      <td>...</td>\n",
              "      <td>...</td>\n",
              "      <td>...</td>\n",
              "      <td>...</td>\n",
              "      <td>...</td>\n",
              "    </tr>\n",
              "    <tr>\n",
              "      <th>410879</th>\n",
              "      <td>6302984</td>\n",
              "      <td>16000.0</td>\n",
              "      <td>1915521</td>\n",
              "      <td>5266</td>\n",
              "      <td>149</td>\n",
              "      <td>99.0</td>\n",
              "      <td>2001</td>\n",
              "      <td>0.0</td>\n",
              "      <td>0</td>\n",
              "      <td>2101</td>\n",
              "      <td>...</td>\n",
              "      <td>True</td>\n",
              "      <td>True</td>\n",
              "      <td>True</td>\n",
              "      <td>True</td>\n",
              "      <td>True</td>\n",
              "      <td>False</td>\n",
              "      <td>False</td>\n",
              "      <td>False</td>\n",
              "      <td>True</td>\n",
              "      <td>True</td>\n",
              "    </tr>\n",
              "    <tr>\n",
              "      <th>412476</th>\n",
              "      <td>6324811</td>\n",
              "      <td>6000.0</td>\n",
              "      <td>1919104</td>\n",
              "      <td>19330</td>\n",
              "      <td>149</td>\n",
              "      <td>99.0</td>\n",
              "      <td>2004</td>\n",
              "      <td>0.0</td>\n",
              "      <td>0</td>\n",
              "      <td>240</td>\n",
              "      <td>...</td>\n",
              "      <td>True</td>\n",
              "      <td>True</td>\n",
              "      <td>True</td>\n",
              "      <td>True</td>\n",
              "      <td>True</td>\n",
              "      <td>True</td>\n",
              "      <td>True</td>\n",
              "      <td>True</td>\n",
              "      <td>True</td>\n",
              "      <td>True</td>\n",
              "    </tr>\n",
              "    <tr>\n",
              "      <th>411927</th>\n",
              "      <td>6313029</td>\n",
              "      <td>16000.0</td>\n",
              "      <td>1918416</td>\n",
              "      <td>17244</td>\n",
              "      <td>149</td>\n",
              "      <td>99.0</td>\n",
              "      <td>2004</td>\n",
              "      <td>0.0</td>\n",
              "      <td>0</td>\n",
              "      <td>627</td>\n",
              "      <td>...</td>\n",
              "      <td>True</td>\n",
              "      <td>True</td>\n",
              "      <td>True</td>\n",
              "      <td>True</td>\n",
              "      <td>True</td>\n",
              "      <td>True</td>\n",
              "      <td>True</td>\n",
              "      <td>True</td>\n",
              "      <td>True</td>\n",
              "      <td>True</td>\n",
              "    </tr>\n",
              "    <tr>\n",
              "      <th>407124</th>\n",
              "      <td>6266251</td>\n",
              "      <td>55000.0</td>\n",
              "      <td>509560</td>\n",
              "      <td>3357</td>\n",
              "      <td>149</td>\n",
              "      <td>99.0</td>\n",
              "      <td>1993</td>\n",
              "      <td>0.0</td>\n",
              "      <td>0</td>\n",
              "      <td>83</td>\n",
              "      <td>...</td>\n",
              "      <td>True</td>\n",
              "      <td>True</td>\n",
              "      <td>True</td>\n",
              "      <td>True</td>\n",
              "      <td>True</td>\n",
              "      <td>True</td>\n",
              "      <td>True</td>\n",
              "      <td>True</td>\n",
              "      <td>True</td>\n",
              "      <td>True</td>\n",
              "    </tr>\n",
              "    <tr>\n",
              "      <th>409203</th>\n",
              "      <td>6283635</td>\n",
              "      <td>34000.0</td>\n",
              "      <td>1869284</td>\n",
              "      <td>4701</td>\n",
              "      <td>149</td>\n",
              "      <td>99.0</td>\n",
              "      <td>1000</td>\n",
              "      <td>0.0</td>\n",
              "      <td>0</td>\n",
              "      <td>989</td>\n",
              "      <td>...</td>\n",
              "      <td>True</td>\n",
              "      <td>True</td>\n",
              "      <td>True</td>\n",
              "      <td>True</td>\n",
              "      <td>True</td>\n",
              "      <td>True</td>\n",
              "      <td>True</td>\n",
              "      <td>True</td>\n",
              "      <td>False</td>\n",
              "      <td>False</td>\n",
              "    </tr>\n",
              "  </tbody>\n",
              "</table>\n",
              "<p>412698 rows × 103 columns</p>\n",
              "</div>\n",
              "      <button class=\"colab-df-convert\" onclick=\"convertToInteractive('df-c88cd51d-068b-4444-8151-646b6dc0900a')\"\n",
              "              title=\"Convert this dataframe to an interactive table.\"\n",
              "              style=\"display:none;\">\n",
              "        \n",
              "  <svg xmlns=\"http://www.w3.org/2000/svg\" height=\"24px\"viewBox=\"0 0 24 24\"\n",
              "       width=\"24px\">\n",
              "    <path d=\"M0 0h24v24H0V0z\" fill=\"none\"/>\n",
              "    <path d=\"M18.56 5.44l.94 2.06.94-2.06 2.06-.94-2.06-.94-.94-2.06-.94 2.06-2.06.94zm-11 1L8.5 8.5l.94-2.06 2.06-.94-2.06-.94L8.5 2.5l-.94 2.06-2.06.94zm10 10l.94 2.06.94-2.06 2.06-.94-2.06-.94-.94-2.06-.94 2.06-2.06.94z\"/><path d=\"M17.41 7.96l-1.37-1.37c-.4-.4-.92-.59-1.43-.59-.52 0-1.04.2-1.43.59L10.3 9.45l-7.72 7.72c-.78.78-.78 2.05 0 2.83L4 21.41c.39.39.9.59 1.41.59.51 0 1.02-.2 1.41-.59l7.78-7.78 2.81-2.81c.8-.78.8-2.07 0-2.86zM5.41 20L4 18.59l7.72-7.72 1.47 1.35L5.41 20z\"/>\n",
              "  </svg>\n",
              "      </button>\n",
              "      \n",
              "  <style>\n",
              "    .colab-df-container {\n",
              "      display:flex;\n",
              "      flex-wrap:wrap;\n",
              "      gap: 12px;\n",
              "    }\n",
              "\n",
              "    .colab-df-convert {\n",
              "      background-color: #E8F0FE;\n",
              "      border: none;\n",
              "      border-radius: 50%;\n",
              "      cursor: pointer;\n",
              "      display: none;\n",
              "      fill: #1967D2;\n",
              "      height: 32px;\n",
              "      padding: 0 0 0 0;\n",
              "      width: 32px;\n",
              "    }\n",
              "\n",
              "    .colab-df-convert:hover {\n",
              "      background-color: #E2EBFA;\n",
              "      box-shadow: 0px 1px 2px rgba(60, 64, 67, 0.3), 0px 1px 3px 1px rgba(60, 64, 67, 0.15);\n",
              "      fill: #174EA6;\n",
              "    }\n",
              "\n",
              "    [theme=dark] .colab-df-convert {\n",
              "      background-color: #3B4455;\n",
              "      fill: #D2E3FC;\n",
              "    }\n",
              "\n",
              "    [theme=dark] .colab-df-convert:hover {\n",
              "      background-color: #434B5C;\n",
              "      box-shadow: 0px 1px 3px 1px rgba(0, 0, 0, 0.15);\n",
              "      filter: drop-shadow(0px 1px 2px rgba(0, 0, 0, 0.3));\n",
              "      fill: #FFFFFF;\n",
              "    }\n",
              "  </style>\n",
              "\n",
              "      <script>\n",
              "        const buttonEl =\n",
              "          document.querySelector('#df-c88cd51d-068b-4444-8151-646b6dc0900a button.colab-df-convert');\n",
              "        buttonEl.style.display =\n",
              "          google.colab.kernel.accessAllowed ? 'block' : 'none';\n",
              "\n",
              "        async function convertToInteractive(key) {\n",
              "          const element = document.querySelector('#df-c88cd51d-068b-4444-8151-646b6dc0900a');\n",
              "          const dataTable =\n",
              "            await google.colab.kernel.invokeFunction('convertToInteractive',\n",
              "                                                     [key], {});\n",
              "          if (!dataTable) return;\n",
              "\n",
              "          const docLinkHtml = 'Like what you see? Visit the ' +\n",
              "            '<a target=\"_blank\" href=https://colab.research.google.com/notebooks/data_table.ipynb>data table notebook</a>'\n",
              "            + ' to learn more about interactive tables.';\n",
              "          element.innerHTML = '';\n",
              "          dataTable['output_type'] = 'display_data';\n",
              "          await google.colab.output.renderOutput(dataTable, element);\n",
              "          const docLink = document.createElement('div');\n",
              "          docLink.innerHTML = docLinkHtml;\n",
              "          element.appendChild(docLink);\n",
              "        }\n",
              "      </script>\n",
              "    </div>\n",
              "  </div>\n",
              "  "
            ]
          },
          "metadata": {},
          "execution_count": 210
        }
      ]
    },
    {
      "cell_type": "code",
      "source": [
        "# Instantiate model\n",
        "model = RandomForestRegressor(n_jobs=-1)\n",
        "\n",
        "# Fit the model\n",
        "model.fit(df_tmp.drop(\"SalePrice\", axis=1)[:10000], df_tmp.SalePrice[:10000])"
      ],
      "metadata": {
        "colab": {
          "base_uri": "https://localhost:8080/"
        },
        "id": "OZNQspq9_LWv",
        "outputId": "49a86f96-11bd-43af-e173-a55c8f3240ce"
      },
      "execution_count": null,
      "outputs": [
        {
          "output_type": "execute_result",
          "data": {
            "text/plain": [
              "RandomForestRegressor(n_jobs=-1)"
            ]
          },
          "metadata": {},
          "execution_count": 211
        }
      ]
    },
    {
      "cell_type": "code",
      "source": [
        "df_val = df_tmp[df_tmp.saleYear == 2012]\n",
        "df_train = df_tmp[df_tmp.saleYear != 2012]\n",
        "\n",
        "len(df_val), len(df_train)"
      ],
      "metadata": {
        "colab": {
          "base_uri": "https://localhost:8080/"
        },
        "id": "w3uc9Cn5_R5_",
        "outputId": "bcbe8fb7-aae1-470f-fea2-0a00a5543348"
      },
      "execution_count": null,
      "outputs": [
        {
          "output_type": "execute_result",
          "data": {
            "text/plain": [
              "(11573, 401125)"
            ]
          },
          "metadata": {},
          "execution_count": 212
        }
      ]
    },
    {
      "cell_type": "code",
      "source": [
        "X_train, y_train = df_train.drop(\"SalePrice\", axis=1), df_train.SalePrice\n",
        "X_valid, y_valid = df_val.drop(\"SalePrice\", axis=1), df_val.SalePrice\n",
        "\n",
        "X_train.shape, y_train.shape, X_valid.shape, y_valid.shape"
      ],
      "metadata": {
        "colab": {
          "base_uri": "https://localhost:8080/"
        },
        "id": "WKBki0YQ_iIE",
        "outputId": "071ff0c8-5e64-4153-e7d7-7c9d1abcf687"
      },
      "execution_count": null,
      "outputs": [
        {
          "output_type": "execute_result",
          "data": {
            "text/plain": [
              "((401125, 102), (401125,), (11573, 102), (11573,))"
            ]
          },
          "metadata": {},
          "execution_count": 213
        }
      ]
    },
    {
      "cell_type": "code",
      "source": [
        "model.fit(X_train[:10000], y_train[:10000])\n",
        "show_scores(model)"
      ],
      "metadata": {
        "colab": {
          "base_uri": "https://localhost:8080/"
        },
        "id": "HG7aDKxEAB09",
        "outputId": "6a79e39d-ce38-4031-b1bb-3b813d7f450b"
      },
      "execution_count": null,
      "outputs": [
        {
          "output_type": "execute_result",
          "data": {
            "text/plain": [
              "{'Training MAE': 24280.3413624182,\n",
              " 'Valid MAE': 27322.08089518707,\n",
              " 'Training RMSLE': 0.854593154808389,\n",
              " 'Valid RMSLE': 0.8906436822263614,\n",
              " 'Training R^2': -0.8691981087208167,\n",
              " 'Valid R^2': -0.7112289402264127}"
            ]
          },
          "metadata": {},
          "execution_count": 214
        }
      ]
    },
    {
      "cell_type": "code",
      "source": [
        "# Different RandomForestClassifier hyperparameters\n",
        "rf_grid = {\"n_estimators\": np.arange(10, 100, 10),\n",
        "           \"max_depth\": [None, 3, 5, 10],\n",
        "           \"min_samples_split\": np.arange(2, 20, 2),\n",
        "           \"min_samples_leaf\": np.arange(1, 20, 2),\n",
        "           \"max_features\": [0.5, 1, \"sqrt\", \"auto\"],\n",
        "           \"max_samples\": [10000]}\n",
        "\n",
        "rs_model = RandomizedSearchCV(RandomForestRegressor(),\n",
        "                              param_distributions=rf_grid,\n",
        "                              n_iter=20,\n",
        "                              cv=5,\n",
        "                              verbose=True)\n",
        "\n",
        "rs_model.fit(X_train[:10000], y_train[:10000])"
      ],
      "metadata": {
        "colab": {
          "base_uri": "https://localhost:8080/"
        },
        "id": "7onXd6cLAQ2Y",
        "outputId": "eaa9ee41-a022-4e81-fe50-e77bf2b45d46"
      },
      "execution_count": null,
      "outputs": [
        {
          "output_type": "stream",
          "name": "stdout",
          "text": [
            "Fitting 5 folds for each of 20 candidates, totalling 100 fits\n"
          ]
        },
        {
          "output_type": "stream",
          "name": "stderr",
          "text": [
            "/usr/local/lib/python3.7/dist-packages/sklearn/model_selection/_validation.py:372: FitFailedWarning: \n",
            "100 fits failed out of a total of 100.\n",
            "The score on these train-test partitions for these parameters will be set to nan.\n",
            "If these failures are not expected, you can try to debug them by setting error_score='raise'.\n",
            "\n",
            "Below are more details about the failures:\n",
            "--------------------------------------------------------------------------------\n",
            "100 fits failed with the following error:\n",
            "Traceback (most recent call last):\n",
            "  File \"/usr/local/lib/python3.7/dist-packages/sklearn/model_selection/_validation.py\", line 680, in _fit_and_score\n",
            "    estimator.fit(X_train, y_train, **fit_params)\n",
            "  File \"/usr/local/lib/python3.7/dist-packages/sklearn/ensemble/_forest.py\", line 386, in fit\n",
            "    n_samples=X.shape[0], max_samples=self.max_samples\n",
            "  File \"/usr/local/lib/python3.7/dist-packages/sklearn/ensemble/_forest.py\", line 111, in _get_n_samples_bootstrap\n",
            "    raise ValueError(msg.format(n_samples, max_samples))\n",
            "ValueError: `max_samples` must be in range 1 to 8000 but got value 10000\n",
            "\n",
            "  warnings.warn(some_fits_failed_message, FitFailedWarning)\n",
            "/usr/local/lib/python3.7/dist-packages/sklearn/model_selection/_search.py:972: UserWarning: One or more of the test scores are non-finite: [nan nan nan nan nan nan nan nan nan nan nan nan nan nan nan nan nan nan\n",
            " nan nan]\n",
            "  category=UserWarning,\n"
          ]
        },
        {
          "output_type": "execute_result",
          "data": {
            "text/plain": [
              "RandomizedSearchCV(cv=5, estimator=RandomForestRegressor(), n_iter=20,\n",
              "                   param_distributions={'max_depth': [None, 3, 5, 10],\n",
              "                                        'max_features': [0.5, 1, 'sqrt',\n",
              "                                                         'auto'],\n",
              "                                        'max_samples': [10000],\n",
              "                                        'min_samples_leaf': array([ 1,  3,  5,  7,  9, 11, 13, 15, 17, 19]),\n",
              "                                        'min_samples_split': array([ 2,  4,  6,  8, 10, 12, 14, 16, 18]),\n",
              "                                        'n_estimators': array([10, 20, 30, 40, 50, 60, 70, 80, 90])},\n",
              "                   verbose=True)"
            ]
          },
          "metadata": {},
          "execution_count": 215
        }
      ]
    },
    {
      "cell_type": "code",
      "source": [
        "rs_model.best_params_"
      ],
      "metadata": {
        "colab": {
          "base_uri": "https://localhost:8080/"
        },
        "id": "MI4NVA-sBI1c",
        "outputId": "a04a4744-4bec-457b-cea9-f42e051adf1f"
      },
      "execution_count": null,
      "outputs": [
        {
          "output_type": "execute_result",
          "data": {
            "text/plain": [
              "{'n_estimators': 90,\n",
              " 'min_samples_split': 8,\n",
              " 'min_samples_leaf': 7,\n",
              " 'max_samples': 10000,\n",
              " 'max_features': 'sqrt',\n",
              " 'max_depth': 5}"
            ]
          },
          "metadata": {},
          "execution_count": 216
        }
      ]
    },
    {
      "cell_type": "code",
      "source": [
        "show_scores(rs_model)"
      ],
      "metadata": {
        "colab": {
          "base_uri": "https://localhost:8080/"
        },
        "id": "wrfI6GisBTl4",
        "outputId": "581aa7f8-91d3-47ba-e7e8-f078bbd3d978"
      },
      "execution_count": null,
      "outputs": [
        {
          "output_type": "execute_result",
          "data": {
            "text/plain": [
              "{'Training MAE': 15358.164503898937,\n",
              " 'Valid MAE': 17495.592533527015,\n",
              " 'Training RMSLE': 0.6701062087465056,\n",
              " 'Valid RMSLE': 0.6856032300144458,\n",
              " 'Training R^2': 0.2612769932309086,\n",
              " 'Valid R^2': 0.25100363108452084}"
            ]
          },
          "metadata": {},
          "execution_count": 217
        }
      ]
    },
    {
      "cell_type": "code",
      "source": [
        "ideal_model = RandomForestRegressor(n_estimators=90,\n",
        "                                    min_samples_leaf=1,\n",
        "                                    min_samples_split=14,\n",
        "                                    max_features=0.5,\n",
        "                                    n_jobs=-1,\n",
        "                                    max_samples=None)\n",
        "ideal_model.fit(X_train[:10000], y_train[:10000])"
      ],
      "metadata": {
        "colab": {
          "base_uri": "https://localhost:8080/"
        },
        "id": "dPoq4R32BVzR",
        "outputId": "a779f0c3-d5fc-4834-c02a-639a8162a2e9"
      },
      "execution_count": null,
      "outputs": [
        {
          "output_type": "execute_result",
          "data": {
            "text/plain": [
              "RandomForestRegressor(max_features=0.5, min_samples_split=14, n_estimators=90,\n",
              "                      n_jobs=-1)"
            ]
          },
          "metadata": {},
          "execution_count": 218
        }
      ]
    },
    {
      "cell_type": "code",
      "source": [
        "show_scores(ideal_model)"
      ],
      "metadata": {
        "colab": {
          "base_uri": "https://localhost:8080/"
        },
        "id": "P4HNoOIoBdU-",
        "outputId": "5357d7cd-d5e3-45a1-bcc2-2842394f53c7"
      },
      "execution_count": null,
      "outputs": [
        {
          "output_type": "execute_result",
          "data": {
            "text/plain": [
              "{'Training MAE': 22360.565049560457,\n",
              " 'Valid MAE': 25140.665585403887,\n",
              " 'Training RMSLE': 0.8228464244987104,\n",
              " 'Valid RMSLE': 0.8573685158003893,\n",
              " 'Training R^2': -0.45891007777513027,\n",
              " 'Valid R^2': -0.33983166219259053}"
            ]
          },
          "metadata": {},
          "execution_count": 219
        }
      ]
    },
    {
      "cell_type": "code",
      "source": [
        "fast_model = RandomForestRegressor(n_estimators=40,\n",
        "                                   min_samples_leaf=3,\n",
        "                                   max_features=0.5,\n",
        "                                   n_jobs=-1)\n",
        "fast_model.fit(X_train[:10000], y_train[:10000])"
      ],
      "metadata": {
        "colab": {
          "base_uri": "https://localhost:8080/"
        },
        "id": "fB_r3l11Bj35",
        "outputId": "843e34a9-5498-42b9-92bd-4c4a1511f888"
      },
      "execution_count": null,
      "outputs": [
        {
          "output_type": "execute_result",
          "data": {
            "text/plain": [
              "RandomForestRegressor(max_features=0.5, min_samples_leaf=3, n_estimators=40,\n",
              "                      n_jobs=-1)"
            ]
          },
          "metadata": {},
          "execution_count": 220
        }
      ]
    },
    {
      "cell_type": "code",
      "source": [
        "show_scores(fast_model)"
      ],
      "metadata": {
        "colab": {
          "base_uri": "https://localhost:8080/"
        },
        "id": "tvn-KU5LByqK",
        "outputId": "fb55707c-9d76-4ba6-b118-633399599bbb"
      },
      "execution_count": null,
      "outputs": [
        {
          "output_type": "execute_result",
          "data": {
            "text/plain": [
              "{'Training MAE': 21717.24864176495,\n",
              " 'Valid MAE': 24309.19129127527,\n",
              " 'Training RMSLE': 0.8064780532351172,\n",
              " 'Valid RMSLE': 0.8374410631497766,\n",
              " 'Training R^2': -0.3871690766405871,\n",
              " 'Valid R^2': -0.26066631032078336}"
            ]
          },
          "metadata": {},
          "execution_count": 221
        }
      ]
    },
    {
      "cell_type": "code",
      "source": [
        "df_test = pd.read_csv(\"Test.csv\",parse_dates=[\"saledate\"])\n",
        "preprocess_data(df_test)\n",
        "df_test[\"auctioneerID_is_missing\"] = False\n",
        "df_test.head()"
      ],
      "metadata": {
        "colab": {
          "base_uri": "https://localhost:8080/",
          "height": 299
        },
        "id": "_suMLIU_CA_4",
        "outputId": "3aa68283-b1a2-4d3c-b169-1c00e1237576"
      },
      "execution_count": null,
      "outputs": [
        {
          "output_type": "execute_result",
          "data": {
            "text/plain": [
              "   SalesID  MachineID  ModelID  datasource  auctioneerID  YearMade  \\\n",
              "0  1227829    1006309     3168         121             3      1999   \n",
              "1  1227844    1022817     7271         121             3      1000   \n",
              "2  1227847    1031560    22805         121             3      2004   \n",
              "3  1227848      56204     1269         121             3      2006   \n",
              "4  1227863    1053887    22312         121             3      2005   \n",
              "\n",
              "   MachineHoursCurrentMeter  UsageBand  fiModelDesc  fiBaseModel  ...  \\\n",
              "0                    3688.0          2          499          180  ...   \n",
              "1                   28555.0          1          831          292  ...   \n",
              "2                    6038.0          3         1177          404  ...   \n",
              "3                    8940.0          1          287          113  ...   \n",
              "4                    2286.0          2          566          196  ...   \n",
              "\n",
              "   Stick_Length_is_missing  Thumb_is_missing  Pattern_Changer_is_missing  \\\n",
              "0                     True              True                        True   \n",
              "1                     True              True                        True   \n",
              "2                    False             False                       False   \n",
              "3                    False             False                       False   \n",
              "4                     True              True                        True   \n",
              "\n",
              "   Grouser_Type_is_missing  Backhoe_Mounting_is_missing  \\\n",
              "0                     True                         True   \n",
              "1                     True                         True   \n",
              "2                    False                         True   \n",
              "3                    False                         True   \n",
              "4                     True                        False   \n",
              "\n",
              "   Blade_Type_is_missing  Travel_Controls_is_missing  \\\n",
              "0                   True                        True   \n",
              "1                   True                        True   \n",
              "2                   True                        True   \n",
              "3                   True                        True   \n",
              "4                  False                       False   \n",
              "\n",
              "   Differential_Type_is_missing  Steering_Controls_is_missing  \\\n",
              "0                          True                          True   \n",
              "1                         False                         False   \n",
              "2                          True                          True   \n",
              "3                          True                          True   \n",
              "4                          True                          True   \n",
              "\n",
              "   auctioneerID_is_missing  \n",
              "0                    False  \n",
              "1                    False  \n",
              "2                    False  \n",
              "3                    False  \n",
              "4                    False  \n",
              "\n",
              "[5 rows x 102 columns]"
            ],
            "text/html": [
              "\n",
              "  <div id=\"df-1d2341c1-a919-45ae-b040-6566f526a7c6\">\n",
              "    <div class=\"colab-df-container\">\n",
              "      <div>\n",
              "<style scoped>\n",
              "    .dataframe tbody tr th:only-of-type {\n",
              "        vertical-align: middle;\n",
              "    }\n",
              "\n",
              "    .dataframe tbody tr th {\n",
              "        vertical-align: top;\n",
              "    }\n",
              "\n",
              "    .dataframe thead th {\n",
              "        text-align: right;\n",
              "    }\n",
              "</style>\n",
              "<table border=\"1\" class=\"dataframe\">\n",
              "  <thead>\n",
              "    <tr style=\"text-align: right;\">\n",
              "      <th></th>\n",
              "      <th>SalesID</th>\n",
              "      <th>MachineID</th>\n",
              "      <th>ModelID</th>\n",
              "      <th>datasource</th>\n",
              "      <th>auctioneerID</th>\n",
              "      <th>YearMade</th>\n",
              "      <th>MachineHoursCurrentMeter</th>\n",
              "      <th>UsageBand</th>\n",
              "      <th>fiModelDesc</th>\n",
              "      <th>fiBaseModel</th>\n",
              "      <th>...</th>\n",
              "      <th>Stick_Length_is_missing</th>\n",
              "      <th>Thumb_is_missing</th>\n",
              "      <th>Pattern_Changer_is_missing</th>\n",
              "      <th>Grouser_Type_is_missing</th>\n",
              "      <th>Backhoe_Mounting_is_missing</th>\n",
              "      <th>Blade_Type_is_missing</th>\n",
              "      <th>Travel_Controls_is_missing</th>\n",
              "      <th>Differential_Type_is_missing</th>\n",
              "      <th>Steering_Controls_is_missing</th>\n",
              "      <th>auctioneerID_is_missing</th>\n",
              "    </tr>\n",
              "  </thead>\n",
              "  <tbody>\n",
              "    <tr>\n",
              "      <th>0</th>\n",
              "      <td>1227829</td>\n",
              "      <td>1006309</td>\n",
              "      <td>3168</td>\n",
              "      <td>121</td>\n",
              "      <td>3</td>\n",
              "      <td>1999</td>\n",
              "      <td>3688.0</td>\n",
              "      <td>2</td>\n",
              "      <td>499</td>\n",
              "      <td>180</td>\n",
              "      <td>...</td>\n",
              "      <td>True</td>\n",
              "      <td>True</td>\n",
              "      <td>True</td>\n",
              "      <td>True</td>\n",
              "      <td>True</td>\n",
              "      <td>True</td>\n",
              "      <td>True</td>\n",
              "      <td>True</td>\n",
              "      <td>True</td>\n",
              "      <td>False</td>\n",
              "    </tr>\n",
              "    <tr>\n",
              "      <th>1</th>\n",
              "      <td>1227844</td>\n",
              "      <td>1022817</td>\n",
              "      <td>7271</td>\n",
              "      <td>121</td>\n",
              "      <td>3</td>\n",
              "      <td>1000</td>\n",
              "      <td>28555.0</td>\n",
              "      <td>1</td>\n",
              "      <td>831</td>\n",
              "      <td>292</td>\n",
              "      <td>...</td>\n",
              "      <td>True</td>\n",
              "      <td>True</td>\n",
              "      <td>True</td>\n",
              "      <td>True</td>\n",
              "      <td>True</td>\n",
              "      <td>True</td>\n",
              "      <td>True</td>\n",
              "      <td>False</td>\n",
              "      <td>False</td>\n",
              "      <td>False</td>\n",
              "    </tr>\n",
              "    <tr>\n",
              "      <th>2</th>\n",
              "      <td>1227847</td>\n",
              "      <td>1031560</td>\n",
              "      <td>22805</td>\n",
              "      <td>121</td>\n",
              "      <td>3</td>\n",
              "      <td>2004</td>\n",
              "      <td>6038.0</td>\n",
              "      <td>3</td>\n",
              "      <td>1177</td>\n",
              "      <td>404</td>\n",
              "      <td>...</td>\n",
              "      <td>False</td>\n",
              "      <td>False</td>\n",
              "      <td>False</td>\n",
              "      <td>False</td>\n",
              "      <td>True</td>\n",
              "      <td>True</td>\n",
              "      <td>True</td>\n",
              "      <td>True</td>\n",
              "      <td>True</td>\n",
              "      <td>False</td>\n",
              "    </tr>\n",
              "    <tr>\n",
              "      <th>3</th>\n",
              "      <td>1227848</td>\n",
              "      <td>56204</td>\n",
              "      <td>1269</td>\n",
              "      <td>121</td>\n",
              "      <td>3</td>\n",
              "      <td>2006</td>\n",
              "      <td>8940.0</td>\n",
              "      <td>1</td>\n",
              "      <td>287</td>\n",
              "      <td>113</td>\n",
              "      <td>...</td>\n",
              "      <td>False</td>\n",
              "      <td>False</td>\n",
              "      <td>False</td>\n",
              "      <td>False</td>\n",
              "      <td>True</td>\n",
              "      <td>True</td>\n",
              "      <td>True</td>\n",
              "      <td>True</td>\n",
              "      <td>True</td>\n",
              "      <td>False</td>\n",
              "    </tr>\n",
              "    <tr>\n",
              "      <th>4</th>\n",
              "      <td>1227863</td>\n",
              "      <td>1053887</td>\n",
              "      <td>22312</td>\n",
              "      <td>121</td>\n",
              "      <td>3</td>\n",
              "      <td>2005</td>\n",
              "      <td>2286.0</td>\n",
              "      <td>2</td>\n",
              "      <td>566</td>\n",
              "      <td>196</td>\n",
              "      <td>...</td>\n",
              "      <td>True</td>\n",
              "      <td>True</td>\n",
              "      <td>True</td>\n",
              "      <td>True</td>\n",
              "      <td>False</td>\n",
              "      <td>False</td>\n",
              "      <td>False</td>\n",
              "      <td>True</td>\n",
              "      <td>True</td>\n",
              "      <td>False</td>\n",
              "    </tr>\n",
              "  </tbody>\n",
              "</table>\n",
              "<p>5 rows × 102 columns</p>\n",
              "</div>\n",
              "      <button class=\"colab-df-convert\" onclick=\"convertToInteractive('df-1d2341c1-a919-45ae-b040-6566f526a7c6')\"\n",
              "              title=\"Convert this dataframe to an interactive table.\"\n",
              "              style=\"display:none;\">\n",
              "        \n",
              "  <svg xmlns=\"http://www.w3.org/2000/svg\" height=\"24px\"viewBox=\"0 0 24 24\"\n",
              "       width=\"24px\">\n",
              "    <path d=\"M0 0h24v24H0V0z\" fill=\"none\"/>\n",
              "    <path d=\"M18.56 5.44l.94 2.06.94-2.06 2.06-.94-2.06-.94-.94-2.06-.94 2.06-2.06.94zm-11 1L8.5 8.5l.94-2.06 2.06-.94-2.06-.94L8.5 2.5l-.94 2.06-2.06.94zm10 10l.94 2.06.94-2.06 2.06-.94-2.06-.94-.94-2.06-.94 2.06-2.06.94z\"/><path d=\"M17.41 7.96l-1.37-1.37c-.4-.4-.92-.59-1.43-.59-.52 0-1.04.2-1.43.59L10.3 9.45l-7.72 7.72c-.78.78-.78 2.05 0 2.83L4 21.41c.39.39.9.59 1.41.59.51 0 1.02-.2 1.41-.59l7.78-7.78 2.81-2.81c.8-.78.8-2.07 0-2.86zM5.41 20L4 18.59l7.72-7.72 1.47 1.35L5.41 20z\"/>\n",
              "  </svg>\n",
              "      </button>\n",
              "      \n",
              "  <style>\n",
              "    .colab-df-container {\n",
              "      display:flex;\n",
              "      flex-wrap:wrap;\n",
              "      gap: 12px;\n",
              "    }\n",
              "\n",
              "    .colab-df-convert {\n",
              "      background-color: #E8F0FE;\n",
              "      border: none;\n",
              "      border-radius: 50%;\n",
              "      cursor: pointer;\n",
              "      display: none;\n",
              "      fill: #1967D2;\n",
              "      height: 32px;\n",
              "      padding: 0 0 0 0;\n",
              "      width: 32px;\n",
              "    }\n",
              "\n",
              "    .colab-df-convert:hover {\n",
              "      background-color: #E2EBFA;\n",
              "      box-shadow: 0px 1px 2px rgba(60, 64, 67, 0.3), 0px 1px 3px 1px rgba(60, 64, 67, 0.15);\n",
              "      fill: #174EA6;\n",
              "    }\n",
              "\n",
              "    [theme=dark] .colab-df-convert {\n",
              "      background-color: #3B4455;\n",
              "      fill: #D2E3FC;\n",
              "    }\n",
              "\n",
              "    [theme=dark] .colab-df-convert:hover {\n",
              "      background-color: #434B5C;\n",
              "      box-shadow: 0px 1px 3px 1px rgba(0, 0, 0, 0.15);\n",
              "      filter: drop-shadow(0px 1px 2px rgba(0, 0, 0, 0.3));\n",
              "      fill: #FFFFFF;\n",
              "    }\n",
              "  </style>\n",
              "\n",
              "      <script>\n",
              "        const buttonEl =\n",
              "          document.querySelector('#df-1d2341c1-a919-45ae-b040-6566f526a7c6 button.colab-df-convert');\n",
              "        buttonEl.style.display =\n",
              "          google.colab.kernel.accessAllowed ? 'block' : 'none';\n",
              "\n",
              "        async function convertToInteractive(key) {\n",
              "          const element = document.querySelector('#df-1d2341c1-a919-45ae-b040-6566f526a7c6');\n",
              "          const dataTable =\n",
              "            await google.colab.kernel.invokeFunction('convertToInteractive',\n",
              "                                                     [key], {});\n",
              "          if (!dataTable) return;\n",
              "\n",
              "          const docLinkHtml = 'Like what you see? Visit the ' +\n",
              "            '<a target=\"_blank\" href=https://colab.research.google.com/notebooks/data_table.ipynb>data table notebook</a>'\n",
              "            + ' to learn more about interactive tables.';\n",
              "          element.innerHTML = '';\n",
              "          dataTable['output_type'] = 'display_data';\n",
              "          await google.colab.output.renderOutput(dataTable, element);\n",
              "          const docLink = document.createElement('div');\n",
              "          docLink.innerHTML = docLinkHtml;\n",
              "          element.appendChild(docLink);\n",
              "        }\n",
              "      </script>\n",
              "    </div>\n",
              "  </div>\n",
              "  "
            ]
          },
          "metadata": {},
          "execution_count": 222
        }
      ]
    },
    {
      "cell_type": "code",
      "source": [
        "test_preds = ideal_model.predict(df_test)"
      ],
      "metadata": {
        "colab": {
          "base_uri": "https://localhost:8080/"
        },
        "id": "UWX5_UIsCbq1",
        "outputId": "d4de3706-a073-412b-cfd3-1598b018bde5"
      },
      "execution_count": null,
      "outputs": [
        {
          "output_type": "stream",
          "name": "stderr",
          "text": [
            "/usr/local/lib/python3.7/dist-packages/sklearn/base.py:493: FutureWarning: The feature names should match those that were passed during fit. Starting version 1.2, an error will be raised.\n",
            "Feature names must be in the same order as they were in fit.\n",
            "\n",
            "  warnings.warn(message, FutureWarning)\n"
          ]
        }
      ]
    },
    {
      "cell_type": "code",
      "source": [
        "df_preds = pd.DataFrame()\n",
        "df_preds[\"SalesID\"] = df_test[\"SalesID\"]\n",
        "df_preds[\"SalePrice\"] = test_preds\n",
        "df_preds"
      ],
      "metadata": {
        "colab": {
          "base_uri": "https://localhost:8080/",
          "height": 424
        },
        "id": "o4sU79WPCfSn",
        "outputId": "691d3f9c-4d21-42cf-b672-b27f580330c7"
      },
      "execution_count": null,
      "outputs": [
        {
          "output_type": "execute_result",
          "data": {
            "text/plain": [
              "       SalesID     SalePrice\n",
              "0      1227829  54546.695561\n",
              "1      1227844  16441.732540\n",
              "2      1227847  55576.359072\n",
              "3      1227848  62368.448907\n",
              "4      1227863  39822.777528\n",
              "...        ...           ...\n",
              "12452  6643171  52749.937323\n",
              "12453  6643173  51657.705411\n",
              "12454  6643184  29361.569209\n",
              "12455  6643186  54410.082060\n",
              "12456  6643196  56473.865807\n",
              "\n",
              "[12457 rows x 2 columns]"
            ],
            "text/html": [
              "\n",
              "  <div id=\"df-24d996cc-17a1-4d41-ae9d-e7dc2efaa328\">\n",
              "    <div class=\"colab-df-container\">\n",
              "      <div>\n",
              "<style scoped>\n",
              "    .dataframe tbody tr th:only-of-type {\n",
              "        vertical-align: middle;\n",
              "    }\n",
              "\n",
              "    .dataframe tbody tr th {\n",
              "        vertical-align: top;\n",
              "    }\n",
              "\n",
              "    .dataframe thead th {\n",
              "        text-align: right;\n",
              "    }\n",
              "</style>\n",
              "<table border=\"1\" class=\"dataframe\">\n",
              "  <thead>\n",
              "    <tr style=\"text-align: right;\">\n",
              "      <th></th>\n",
              "      <th>SalesID</th>\n",
              "      <th>SalePrice</th>\n",
              "    </tr>\n",
              "  </thead>\n",
              "  <tbody>\n",
              "    <tr>\n",
              "      <th>0</th>\n",
              "      <td>1227829</td>\n",
              "      <td>54546.695561</td>\n",
              "    </tr>\n",
              "    <tr>\n",
              "      <th>1</th>\n",
              "      <td>1227844</td>\n",
              "      <td>16441.732540</td>\n",
              "    </tr>\n",
              "    <tr>\n",
              "      <th>2</th>\n",
              "      <td>1227847</td>\n",
              "      <td>55576.359072</td>\n",
              "    </tr>\n",
              "    <tr>\n",
              "      <th>3</th>\n",
              "      <td>1227848</td>\n",
              "      <td>62368.448907</td>\n",
              "    </tr>\n",
              "    <tr>\n",
              "      <th>4</th>\n",
              "      <td>1227863</td>\n",
              "      <td>39822.777528</td>\n",
              "    </tr>\n",
              "    <tr>\n",
              "      <th>...</th>\n",
              "      <td>...</td>\n",
              "      <td>...</td>\n",
              "    </tr>\n",
              "    <tr>\n",
              "      <th>12452</th>\n",
              "      <td>6643171</td>\n",
              "      <td>52749.937323</td>\n",
              "    </tr>\n",
              "    <tr>\n",
              "      <th>12453</th>\n",
              "      <td>6643173</td>\n",
              "      <td>51657.705411</td>\n",
              "    </tr>\n",
              "    <tr>\n",
              "      <th>12454</th>\n",
              "      <td>6643184</td>\n",
              "      <td>29361.569209</td>\n",
              "    </tr>\n",
              "    <tr>\n",
              "      <th>12455</th>\n",
              "      <td>6643186</td>\n",
              "      <td>54410.082060</td>\n",
              "    </tr>\n",
              "    <tr>\n",
              "      <th>12456</th>\n",
              "      <td>6643196</td>\n",
              "      <td>56473.865807</td>\n",
              "    </tr>\n",
              "  </tbody>\n",
              "</table>\n",
              "<p>12457 rows × 2 columns</p>\n",
              "</div>\n",
              "      <button class=\"colab-df-convert\" onclick=\"convertToInteractive('df-24d996cc-17a1-4d41-ae9d-e7dc2efaa328')\"\n",
              "              title=\"Convert this dataframe to an interactive table.\"\n",
              "              style=\"display:none;\">\n",
              "        \n",
              "  <svg xmlns=\"http://www.w3.org/2000/svg\" height=\"24px\"viewBox=\"0 0 24 24\"\n",
              "       width=\"24px\">\n",
              "    <path d=\"M0 0h24v24H0V0z\" fill=\"none\"/>\n",
              "    <path d=\"M18.56 5.44l.94 2.06.94-2.06 2.06-.94-2.06-.94-.94-2.06-.94 2.06-2.06.94zm-11 1L8.5 8.5l.94-2.06 2.06-.94-2.06-.94L8.5 2.5l-.94 2.06-2.06.94zm10 10l.94 2.06.94-2.06 2.06-.94-2.06-.94-.94-2.06-.94 2.06-2.06.94z\"/><path d=\"M17.41 7.96l-1.37-1.37c-.4-.4-.92-.59-1.43-.59-.52 0-1.04.2-1.43.59L10.3 9.45l-7.72 7.72c-.78.78-.78 2.05 0 2.83L4 21.41c.39.39.9.59 1.41.59.51 0 1.02-.2 1.41-.59l7.78-7.78 2.81-2.81c.8-.78.8-2.07 0-2.86zM5.41 20L4 18.59l7.72-7.72 1.47 1.35L5.41 20z\"/>\n",
              "  </svg>\n",
              "      </button>\n",
              "      \n",
              "  <style>\n",
              "    .colab-df-container {\n",
              "      display:flex;\n",
              "      flex-wrap:wrap;\n",
              "      gap: 12px;\n",
              "    }\n",
              "\n",
              "    .colab-df-convert {\n",
              "      background-color: #E8F0FE;\n",
              "      border: none;\n",
              "      border-radius: 50%;\n",
              "      cursor: pointer;\n",
              "      display: none;\n",
              "      fill: #1967D2;\n",
              "      height: 32px;\n",
              "      padding: 0 0 0 0;\n",
              "      width: 32px;\n",
              "    }\n",
              "\n",
              "    .colab-df-convert:hover {\n",
              "      background-color: #E2EBFA;\n",
              "      box-shadow: 0px 1px 2px rgba(60, 64, 67, 0.3), 0px 1px 3px 1px rgba(60, 64, 67, 0.15);\n",
              "      fill: #174EA6;\n",
              "    }\n",
              "\n",
              "    [theme=dark] .colab-df-convert {\n",
              "      background-color: #3B4455;\n",
              "      fill: #D2E3FC;\n",
              "    }\n",
              "\n",
              "    [theme=dark] .colab-df-convert:hover {\n",
              "      background-color: #434B5C;\n",
              "      box-shadow: 0px 1px 3px 1px rgba(0, 0, 0, 0.15);\n",
              "      filter: drop-shadow(0px 1px 2px rgba(0, 0, 0, 0.3));\n",
              "      fill: #FFFFFF;\n",
              "    }\n",
              "  </style>\n",
              "\n",
              "      <script>\n",
              "        const buttonEl =\n",
              "          document.querySelector('#df-24d996cc-17a1-4d41-ae9d-e7dc2efaa328 button.colab-df-convert');\n",
              "        buttonEl.style.display =\n",
              "          google.colab.kernel.accessAllowed ? 'block' : 'none';\n",
              "\n",
              "        async function convertToInteractive(key) {\n",
              "          const element = document.querySelector('#df-24d996cc-17a1-4d41-ae9d-e7dc2efaa328');\n",
              "          const dataTable =\n",
              "            await google.colab.kernel.invokeFunction('convertToInteractive',\n",
              "                                                     [key], {});\n",
              "          if (!dataTable) return;\n",
              "\n",
              "          const docLinkHtml = 'Like what you see? Visit the ' +\n",
              "            '<a target=\"_blank\" href=https://colab.research.google.com/notebooks/data_table.ipynb>data table notebook</a>'\n",
              "            + ' to learn more about interactive tables.';\n",
              "          element.innerHTML = '';\n",
              "          dataTable['output_type'] = 'display_data';\n",
              "          await google.colab.output.renderOutput(dataTable, element);\n",
              "          const docLink = document.createElement('div');\n",
              "          docLink.innerHTML = docLinkHtml;\n",
              "          element.appendChild(docLink);\n",
              "        }\n",
              "      </script>\n",
              "    </div>\n",
              "  </div>\n",
              "  "
            ]
          },
          "metadata": {},
          "execution_count": 224
        }
      ]
    },
    {
      "cell_type": "code",
      "source": [
        "ideal_model.feature_importances_"
      ],
      "metadata": {
        "colab": {
          "base_uri": "https://localhost:8080/"
        },
        "id": "ZDuk5BSyCxIl",
        "outputId": "122dee2f-6910-4e7f-e222-3b0bbc3ef797"
      },
      "execution_count": null,
      "outputs": [
        {
          "output_type": "execute_result",
          "data": {
            "text/plain": [
              "array([7.94775251e-02, 8.22956552e-03, 1.37492161e-01, 0.00000000e+00,\n",
              "       2.83648502e-03, 2.69724328e-01, 5.91153138e-04, 2.99707930e-04,\n",
              "       4.32944329e-02, 2.63153869e-02, 1.11640554e-01, 3.43806481e-04,\n",
              "       9.55479441e-04, 4.08710820e-02, 4.49411820e-02, 6.78149407e-03,\n",
              "       1.75171421e-03, 1.85121274e-03, 3.06665555e-04, 1.41629446e-02,\n",
              "       9.89188373e-04, 2.19728863e-05, 1.88754579e-04, 1.60275145e-03,\n",
              "       4.57666341e-03, 1.74967106e-05, 2.67542558e-05, 9.77963102e-04,\n",
              "       3.41943433e-04, 7.35037962e-05, 1.90830682e-03, 5.07124738e-04,\n",
              "       7.54122000e-03, 1.81075578e-04, 2.50277061e-04, 5.62317730e-03,\n",
              "       4.09979310e-03, 3.13315278e-06, 2.37732781e-07, 3.01886320e-08,\n",
              "       1.27177688e-02, 2.88651497e-02, 1.58516086e-03, 2.34241702e-03,\n",
              "       5.22901116e-03, 5.86651779e-03, 1.25461632e-03, 3.25736096e-03,\n",
              "       5.92076536e-03, 5.68907553e-04, 2.70501977e-04, 4.03289519e-03,\n",
              "       4.53019072e-03, 7.14964025e-03, 2.55150965e-03, 9.03831409e-03,\n",
              "       0.00000000e+00, 2.82932930e-04, 1.93419527e-04, 0.00000000e+00,\n",
              "       0.00000000e+00, 2.09612439e-02, 4.12319128e-04, 3.54341054e-04,\n",
              "       2.22955323e-02, 0.00000000e+00, 0.00000000e+00, 0.00000000e+00,\n",
              "       0.00000000e+00, 4.23854599e-05, 2.32450935e-07, 4.04210710e-04,\n",
              "       2.64989206e-05, 8.40780542e-04, 2.40567418e-06, 2.35007698e-03,\n",
              "       1.35499806e-05, 1.58505283e-05, 5.70916149e-05, 6.62904077e-05,\n",
              "       3.05262174e-04, 3.29781826e-05, 5.63546412e-05, 2.44145645e-03,\n",
              "       1.48742484e-05, 4.78517237e-05, 2.20215115e-03, 2.12967517e-03,\n",
              "       1.55501706e-06, 2.15193909e-07, 1.74512422e-07, 6.25799880e-03,\n",
              "       6.44364111e-03, 1.77166807e-05, 7.65489312e-03, 1.00813688e-03,\n",
              "       4.34681954e-03, 3.72996124e-04, 5.72778107e-04, 1.02566557e-03,\n",
              "       2.88773931e-04, 4.79894374e-04])"
            ]
          },
          "metadata": {},
          "execution_count": 225
        }
      ]
    },
    {
      "cell_type": "code",
      "source": [
        "plot_features(X_train.columns, ideal_model.feature_importances_)"
      ],
      "metadata": {
        "colab": {
          "base_uri": "https://localhost:8080/",
          "height": 280
        },
        "id": "C9rvP4weC0mZ",
        "outputId": "57a25aeb-1e26-48a4-a7d7-2507bb192c0d"
      },
      "execution_count": null,
      "outputs": [
        {
          "output_type": "display_data",
          "data": {
            "text/plain": [
              "<Figure size 432x288 with 1 Axes>"
            ],
            "image/png": "[encoded data removed]"
          },
          "metadata": {
            "needs_background": "light"
          }
        }
      ]
    },
    {
      "cell_type": "code",
      "source": [],
      "metadata": {
        "id": "E8TB3w1MhZh0"
      },
      "execution_count": null,
      "outputs": []
    }
  ]
}